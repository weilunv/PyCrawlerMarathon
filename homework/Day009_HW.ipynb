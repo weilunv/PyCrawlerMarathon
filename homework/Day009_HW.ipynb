{
 "cells": [
  {
   "cell_type": "code",
   "execution_count": 3,
   "metadata": {},
   "outputs": [
    {
     "name": "stdout",
     "output_type": "stream",
     "text": [
      "下載完成 ./downloads/Yvqa9MC.jpg.jpeg\n",
      "下載完成 ./downloads/4aqPUFf.jpg.jpeg\n",
      "下載完成 ./downloads/hG9seBk.jpg.jpeg\n",
      "下載完成 ./downloads/2M5b3z4.jpg.jpeg\n",
      "下載完成 ./downloads/ncyh1pY.jpg.jpeg\n",
      "下載完成 ./downloads/Z8L1vqU.jpg.jpeg\n",
      "下載完成 ./downloads/tJyl8gf.jpg.jpeg\n",
      "下載完成 ./downloads/hwry1vC.jpg.jpeg\n",
      "下載完成 ./downloads/WaPmVsl.jpg.jpeg\n",
      "下載完成 ./downloads/u3a9fBO.jpg.jpeg\n"
     ]
    }
   ],
   "source": [
    "import requests\n",
    "import os\n",
    "\n",
    "from bs4 import BeautifulSoup\n",
    "from PIL import Image\n",
    "\n",
    "url = 'https://www.ptt.cc/bbs/Beauty/M.1574854555.A.E5C.html'\n",
    "resp = requests.get(url, cookies={'over18': '1'})\n",
    "soup = BeautifulSoup(resp.text)\n",
    "\n",
    "output_dir = './downloads'\n",
    "\n",
    "if not os.path.exists(output_dir):\n",
    "    os.makedirs(output_dir)\n",
    "\n",
    "# main-content 為最外層的 div id 圖片有連結\n",
    "image_tags = soup.find(id='main-content').findChildren('a', recursive=False)\n",
    "for img_tag in image_tags:\n",
    "    # 只抓 imgur 圖\n",
    "    if 'imgur' not in img_tag['href']:\n",
    "        continue\n",
    "    img_id = img_tag['href'].split('/')[-1]\n",
    "    img_url = 'https://i.imgur.com/{}.jpg'.format(img_id)\n",
    "    with requests.get(img_url, stream=True) as r:\n",
    "        r.raise_for_status()\n",
    "        img = Image.open(r.raw)\n",
    "        img_savename = '{outdir}/{img_id}.{img_ext}'.format(\n",
    "            outdir=output_dir, img_id=img_id, img_ext=img.format.lower())\n",
    "        img.save(img_savename)\n",
    "        print('下載完成 {}'.format(img_savename))"
   ]
  },
  {
   "cell_type": "code",
   "execution_count": null,
   "metadata": {},
   "outputs": [],
   "source": []
  }
 ],
 "metadata": {
  "kernelspec": {
   "display_name": "Python 3",
   "language": "python",
   "name": "python3"
  },
  "language_info": {
   "codemirror_mode": {
    "name": "ipython",
    "version": 3
   },
   "file_extension": ".py",
   "mimetype": "text/x-python",
   "name": "python",
   "nbconvert_exporter": "python",
   "pygments_lexer": "ipython3",
   "version": "3.7.6"
  }
 },
 "nbformat": 4,
 "nbformat_minor": 4
}
