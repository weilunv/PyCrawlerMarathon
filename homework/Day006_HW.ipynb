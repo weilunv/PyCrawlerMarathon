{
 "cells": [
  {
   "cell_type": "code",
   "execution_count": 57,
   "metadata": {},
   "outputs": [
    {
     "name": "stdout",
     "output_type": "stream",
     "text": [
      "取出知乎問題發問時間:\n",
      "2017-02-06 22:10:29\n",
      "取出第一筆回答的時間\n",
      "2019-04-01 10:17:08\n",
      "取出最後一筆回答的時間\n",
      "2019-10-29 11:07:06\n"
     ]
    }
   ],
   "source": [
    "#1. 取出知乎問題發問時間\n",
    "#2. 取出第一筆與最後一筆回答的時間\n",
    "from datetime import datetime\n",
    "import json\n",
    "import requests\n",
    "headers = {'user-agent': 'my-app/0.0.1'}\n",
    "r = requests.get('https://www.zhihu.com/api/v4/questions/55493026',headers=headers)\n",
    "response = r.text\n",
    "data = json.loads(response)\n",
    "print(\"取出知乎問題發問時間:\")\n",
    "print(datetime.fromtimestamp(data['created']))\n",
    "r = requests.get('https://www.zhihu.com/api/v4/questions/55493026/answers',headers=headers)\n",
    "response = r.text\n",
    "data = json.loads(response)\n",
    "print(\"取出第一筆回答的時間\")\n",
    "print(datetime.fromtimestamp(data['data'][0]['created_time']))\n",
    "print(\"取出最後一筆回答的時間\")\n",
    "print(datetime.fromtimestamp(data['data'][-1]['created_time']))\n"
   ]
  },
  {
   "cell_type": "code",
   "execution_count": null,
   "metadata": {},
   "outputs": [],
   "source": []
  }
 ],
 "metadata": {
  "kernelspec": {
   "display_name": "Python 3",
   "language": "python",
   "name": "python3"
  },
  "language_info": {
   "codemirror_mode": {
    "name": "ipython",
    "version": 3
   },
   "file_extension": ".py",
   "mimetype": "text/x-python",
   "name": "python",
   "nbconvert_exporter": "python",
   "pygments_lexer": "ipython3",
   "version": "3.7.6"
  }
 },
 "nbformat": 4,
 "nbformat_minor": 4
}
