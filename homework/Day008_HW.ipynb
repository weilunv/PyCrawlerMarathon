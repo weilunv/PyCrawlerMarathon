{
 "cells": [
  {
   "cell_type": "code",
   "execution_count": 18,
   "metadata": {},
   "outputs": [
    {
     "name": "stdout",
     "output_type": "stream",
     "text": [
      "Request 取回之後該怎麼取出資料，資料型態是什麼？=> 透過回傳的 response 物件取得資料，例如 response.status_code\n"
     ]
    }
   ],
   "source": [
    "print('Request 取回之後該怎麼取出資料，資料型態是什麼？=> 透過回傳的 response 物件取得資料，例如 response.status_code')\n"
   ]
  },
  {
   "cell_type": "code",
   "execution_count": null,
   "metadata": {},
   "outputs": [],
   "source": [
    "print('為什麼要使用 BeatifulSoup 處理？處理後的型態是什麼？=> 方便存取網頁中的 DOM，它會將內容轉成 tree 的型態 ')"
   ]
  },
  {
   "cell_type": "code",
   "execution_count": 22,
   "metadata": {},
   "outputs": [
    {
     "name": "stdout",
     "output_type": "stream",
     "text": [
      "400\n",
      "status code 為 400 代表有問題\n",
      "200\n"
     ]
    }
   ],
   "source": [
    "import requests\n",
    "from bs4 import BeautifulSoup\n",
    "r = requests.get('https://www.zhihu.com/explore')\n",
    "print(r.status_code)\n",
    "print(\"status code 為 400 代表有問題\")\n",
    "\n",
    "headers = {'user-agent': 'my-app/0.0.1'}\n",
    "r = requests.get('https://www.zhihu.com/explore',headers=headers)\n",
    "print(r.status_code)"
   ]
  },
  {
   "cell_type": "code",
   "execution_count": null,
   "metadata": {},
   "outputs": [],
   "source": []
  }
 ],
 "metadata": {
  "kernelspec": {
   "display_name": "Python 3",
   "language": "python",
   "name": "python3"
  },
  "language_info": {
   "codemirror_mode": {
    "name": "ipython",
    "version": 3
   },
   "file_extension": ".py",
   "mimetype": "text/x-python",
   "name": "python",
   "nbconvert_exporter": "python",
   "pygments_lexer": "ipython3",
   "version": "3.7.6"
  }
 },
 "nbformat": 4,
 "nbformat_minor": 4
}
